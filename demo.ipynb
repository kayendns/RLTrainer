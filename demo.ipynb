{
 "cells": [
  {
   "cell_type": "markdown",
   "metadata": {},
   "source": [
    "# Testing out Fancy Gym"
   ]
  },
  {
   "cell_type": "code",
   "execution_count": 1,
   "metadata": {},
   "outputs": [
    {
     "name": "stderr",
     "output_type": "stream",
     "text": [
      "/home/kn/Code/Misc/mambaforge/envs/RLHF/lib/python3.8/site-packages/pygame/pkgdata.py:25: DeprecationWarning: pkg_resources is deprecated as an API. See https://setuptools.pypa.io/en/latest/pkg_resources.html\n",
      "  from pkg_resources import resource_stream, resource_exists\n",
      "/home/kn/Code/Misc/mambaforge/envs/RLHF/lib/python3.8/site-packages/pkg_resources/__init__.py:2871: DeprecationWarning: Deprecated call to `pkg_resources.declare_namespace('mpl_toolkits')`.\n",
      "Implementing implicit namespace packages (as specified in PEP 420) is preferred to `pkg_resources.declare_namespace`. See https://setuptools.pypa.io/en/latest/references/keywords.html#keyword-namespace-packages\n",
      "  declare_namespace(pkg)\n"
     ]
    },
    {
     "name": "stdout",
     "output_type": "stream",
     "text": [
      "pygame 2.5.2 (SDL 2.28.2, Python 3.8.18)\n",
      "Hello from the pygame community. https://www.pygame.org/contribute.html\n"
     ]
    }
   ],
   "source": [
    "import fancy_gym\n",
    "import gymnasium as gym\n",
    "import numpy as np\n",
    "import time"
   ]
  },
  {
   "cell_type": "markdown",
   "metadata": {},
   "source": [
    "# Tests for JSONification"
   ]
  },
  {
   "cell_type": "code",
   "execution_count": 12,
   "metadata": {},
   "outputs": [
    {
     "name": "stdout",
     "output_type": "stream",
     "text": [
      "float32\n",
      "{'state': [0.967822957294397, -0.036734707638827635, 0.0, 0.0, 0.0, 0.0, -1.15570723, 1.30024401, 1.44280414, 0.0, 0.0, 0.0], 'state_dtype': 'float64', 'action': [[2.0005362033843994, 1.0828193426132202, -1.8704737424850464], [-1.1786351203918457, 1.1533701419830322, 0.3787243962287903]], 'action_dtype': 'float32', 'reward': 0, 'terminated': False, 'truncated': False, 'next_state': [0.967822957294397, -0.036734707638827635, 0.0, 0.0, 0.0, 0.0, -1.1586362388808724, 1.318277771631903, 1.3999360134545766, 0.1413515997735139, -0.13054657195903221, 0.1684058898543555], 'next_state_dtype': 'float64'}\n",
      "(None, \"cannot encode object: 61, of type: <class 'numpy.int64'>\")\n"
     ]
    },
    {
     "ename": "AttributeError",
     "evalue": "'NoneType' object has no attribute 'trajectory1'",
     "output_type": "error",
     "traceback": [
      "\u001b[0;31m---------------------------------------------------------------------------\u001b[0m",
      "\u001b[0;31mAttributeError\u001b[0m                            Traceback (most recent call last)",
      "\u001b[1;32m/home/kn/Code/RLHF/GeneralRLHF/demo.ipynb Cell 4\u001b[0m line \u001b[0;36m2\n\u001b[1;32m     <a href='vscode-notebook-cell:/home/kn/Code/RLHF/GeneralRLHF/demo.ipynb#X13sZmlsZQ%3D%3D?line=21'>22</a>\u001b[0m \u001b[39mprint\u001b[39m(db_manager\u001b[39m.\u001b[39madd_entry(TrajectoryPair(trajectory, trajectory)))\n\u001b[1;32m     <a href='vscode-notebook-cell:/home/kn/Code/RLHF/GeneralRLHF/demo.ipynb#X13sZmlsZQ%3D%3D?line=23'>24</a>\u001b[0m t, error \u001b[39m=\u001b[39m db_manager\u001b[39m.\u001b[39mget_next_entry()\n\u001b[0;32m---> <a href='vscode-notebook-cell:/home/kn/Code/RLHF/GeneralRLHF/demo.ipynb#X13sZmlsZQ%3D%3D?line=25'>26</a>\u001b[0m \u001b[39mprint\u001b[39m(t\u001b[39m.\u001b[39;49mtrajectory1\u001b[39m.\u001b[39mtransitions[\u001b[39m0\u001b[39m])\n\u001b[1;32m     <a href='vscode-notebook-cell:/home/kn/Code/RLHF/GeneralRLHF/demo.ipynb#X13sZmlsZQ%3D%3D?line=27'>28</a>\u001b[0m db_manager\u001b[39m.\u001b[39mclose_db()\n",
      "\u001b[0;31mAttributeError\u001b[0m: 'NoneType' object has no attribute 'trajectory1'"
     ]
    }
   ],
   "source": [
    "from src.DataHandling.video_extractor import VideoExtractor\n",
    "from src.DataHandling.simulator import Simulator\n",
    "from src.DataHandling.database_manager import DBManager\n",
    "from src.DataHandling.trajectory_pair import TrajectoryPair\n",
    "\n",
    "env = gym.make('fancy/AirHockey-3dof-hit-v0', render_mode=\"rgb_array\", width=600, height=400)\n",
    "\n",
    "simulator = Simulator(env)\n",
    "video_extractor = VideoExtractor(env)\n",
    "\n",
    "frames, trajectory = simulator.simulate_for_n_seconds(seconds=3, seed=420)\n",
    "\n",
    "initial_conditions, transitions = trajectory\n",
    "\n",
    "db_manager = DBManager(debug=True)\n",
    "\n",
    "print(transitions[100].action.dtype)\n",
    "\n",
    "entry = TrajectoryPair(trajectory, trajectory).to_bson()\n",
    "\n",
    "print(entry['trajectory1']['transitions'][0])\n",
    "print(db_manager.add_entry(TrajectoryPair(trajectory, trajectory)))\n",
    "\n",
    "t, error = db_manager.get_next_entry()\n",
    "\n",
    "print(t.trajectory1.transitions[0])\n",
    "\n",
    "db_manager.close_db()\n",
    "\n",
    "#TODO: Fix new error \"cannot encode object: 61, of type: <class 'numpy.int64'>\"\n"
   ]
  },
  {
   "cell_type": "markdown",
   "metadata": {},
   "source": [
    "# Test for Recreation"
   ]
  },
  {
   "cell_type": "code",
   "execution_count": 2,
   "metadata": {},
   "outputs": [
    {
     "name": "stdout",
     "output_type": "stream",
     "text": [
      "Second Video\n",
      "Length of original frames: 750\n",
      "<class 'list'>\n",
      "<class 'numpy.ndarray'>\n",
      "Length of reconstructed frames: 750\n"
     ]
    }
   ],
   "source": [
    "from src.DataHandling.video_extractor import VideoExtractor\n",
    "from src.DataHandling.simulator import Simulator\n",
    "\n",
    "env = gym.make('fancy/AirHockey-3dof-hit-v0', render_mode=\"rgb_array\", width=600, height=400)\n",
    "\n",
    "simulator = Simulator(env)\n",
    "video_extractor = VideoExtractor(env)\n",
    "\n",
    "frames, trajectory = simulator.simulate_for_n_seconds(seconds=15, seed=69)\n",
    "\n",
    "video_extractor.generate_video(frames=frames)\n",
    "\n",
    "print(\"Second Video\")\n",
    "video_extractor.generate_video(frames=video_extractor.recreate_frames_from_trajectory(trajectory=trajectory))\n",
    "\n",
    "frames2 = video_extractor.recreate_frames_from_trajectory(trajectory=trajectory)\n",
    "\n",
    "print(f\"Length of original frames: {len(frames)}\")\n",
    "print(type(frames))\n",
    "print(type(frames[0]))\n",
    "print(f\"Length of reconstructed frames: {len(frames2)}\")\n"
   ]
  },
  {
   "cell_type": "code",
   "execution_count": null,
   "metadata": {},
   "outputs": [],
   "source": [
    "print(frames[0][0, :10])\n",
    "print(frames2[0][0, :10])\n",
    "\n",
    "np.array_equal(frames[0], frames2[0])\n",
    "\n",
    "differences = np.where(frames[0] != frames2[0])[:10]\n",
    "ctr = 0\n",
    "for index in zip(*differences):\n",
    "    ctr += 1\n",
    "    print(\"Difference at position {}: {} vs {}\".format(index, frames[0][index], frames2[0][index]))\n",
    "\n",
    "ctr"
   ]
  },
  {
   "cell_type": "code",
   "execution_count": null,
   "metadata": {},
   "outputs": [],
   "source": [
    "# The code below is just to test out how efficiently others implemented the rgb_array render mode.\n",
    "#env = gym.make('CartPole-v1', render_mode=\"rgb_array\")\n",
    "#\n",
    "#video_extractor = VideoExtractor(env)\n",
    "#start_time = time.time()\n",
    "#\n",
    "#frames, _ = video_extractor.record_for_n_seconds(seconds=10)\n",
    "#end_time = time.time()\n",
    "#print(f\"Execution time for frame gen: {end_time - start_time} seconds\")\n",
    "#env.close()\n",
    "#\n",
    "#start_time = time.time()\n",
    "#video_extractor.generate_video(frames)\n",
    "#end_time = time.time()\n",
    "#print(f\"Execution time for video gen: {end_time - start_time} seconds\")"
   ]
  }
 ],
 "metadata": {
  "kernelspec": {
   "display_name": "Python 3",
   "language": "python",
   "name": "python3"
  },
  "language_info": {
   "codemirror_mode": {
    "name": "ipython",
    "version": 3
   },
   "file_extension": ".py",
   "mimetype": "text/x-python",
   "name": "python",
   "nbconvert_exporter": "python",
   "pygments_lexer": "ipython3",
   "version": "3.8.18"
  }
 },
 "nbformat": 4,
 "nbformat_minor": 2
}
